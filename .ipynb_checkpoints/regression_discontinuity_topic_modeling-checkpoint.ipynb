{
 "cells": [
  {
   "cell_type": "markdown",
   "metadata": {},
   "source": [
    "## Topic Modeling Regression Discontinuity "
   ]
  },
  {
   "cell_type": "markdown",
   "metadata": {},
   "source": [
    "Here we do a regression discontinuity analysis on our topic modeling tasks. We have assigned each document its most likely topic and then binned all of the documents by week, finding the counts per week of each topic. We then turn each count into a proportion per week in order to normalize. We now perform a regression discontinuity per topic. Three topics were chosen because we found that the coherence score was the highest for 3 topics. "
   ]
  },
  {
   "cell_type": "code",
   "execution_count": 1,
   "metadata": {},
   "outputs": [],
   "source": [
    "import pandas as pd\n",
    "import numpy as np \n",
    "import statsmodels.api as sm\n",
    "import statsmodels.formula.api as smf\n",
    "import matplotlib.pyplot as plt\n",
    "import datetime\n",
    "%matplotlib inline\n",
    "from pytz import timezone\n",
    "import time\n",
    "from datetime import datetime"
   ]
  },
  {
   "cell_type": "code",
   "execution_count": 2,
   "metadata": {},
   "outputs": [],
   "source": [
    "df = pd.read_csv('Proportion_of_Topics2.csv')"
   ]
  },
  {
   "cell_type": "code",
   "execution_count": 3,
   "metadata": {},
   "outputs": [
    {
     "data": {
      "text/html": [
       "<div>\n",
       "<style scoped>\n",
       "    .dataframe tbody tr th:only-of-type {\n",
       "        vertical-align: middle;\n",
       "    }\n",
       "\n",
       "    .dataframe tbody tr th {\n",
       "        vertical-align: top;\n",
       "    }\n",
       "\n",
       "    .dataframe thead th {\n",
       "        text-align: right;\n",
       "    }\n",
       "</style>\n",
       "<table border=\"1\" class=\"dataframe\">\n",
       "  <thead>\n",
       "    <tr style=\"text-align: right;\">\n",
       "      <th></th>\n",
       "      <th>timestamps</th>\n",
       "      <th>topic_0</th>\n",
       "      <th>topic_1</th>\n",
       "      <th>topic_2</th>\n",
       "    </tr>\n",
       "  </thead>\n",
       "  <tbody>\n",
       "    <tr>\n",
       "      <th>0</th>\n",
       "      <td>2016-01-03</td>\n",
       "      <td>0.527629</td>\n",
       "      <td>0.379701</td>\n",
       "      <td>0.092671</td>\n",
       "    </tr>\n",
       "    <tr>\n",
       "      <th>1</th>\n",
       "      <td>2016-01-10</td>\n",
       "      <td>0.507552</td>\n",
       "      <td>0.403644</td>\n",
       "      <td>0.088804</td>\n",
       "    </tr>\n",
       "    <tr>\n",
       "      <th>2</th>\n",
       "      <td>2016-01-17</td>\n",
       "      <td>0.501622</td>\n",
       "      <td>0.406242</td>\n",
       "      <td>0.092136</td>\n",
       "    </tr>\n",
       "    <tr>\n",
       "      <th>3</th>\n",
       "      <td>2016-01-24</td>\n",
       "      <td>0.492569</td>\n",
       "      <td>0.420300</td>\n",
       "      <td>0.087131</td>\n",
       "    </tr>\n",
       "    <tr>\n",
       "      <th>4</th>\n",
       "      <td>2016-01-31</td>\n",
       "      <td>0.493305</td>\n",
       "      <td>0.422299</td>\n",
       "      <td>0.084396</td>\n",
       "    </tr>\n",
       "  </tbody>\n",
       "</table>\n",
       "</div>"
      ],
      "text/plain": [
       "   timestamps   topic_0   topic_1   topic_2\n",
       "0  2016-01-03  0.527629  0.379701  0.092671\n",
       "1  2016-01-10  0.507552  0.403644  0.088804\n",
       "2  2016-01-17  0.501622  0.406242  0.092136\n",
       "3  2016-01-24  0.492569  0.420300  0.087131\n",
       "4  2016-01-31  0.493305  0.422299  0.084396"
      ]
     },
     "execution_count": 3,
     "metadata": {},
     "output_type": "execute_result"
    }
   ],
   "source": [
    "df.columns = ['timestamps', 'topic_0', 'topic_1', 'topic_2']\n",
    "df.head()"
   ]
  },
  {
   "cell_type": "code",
   "execution_count": 4,
   "metadata": {},
   "outputs": [],
   "source": [
    "def create_dummy(row):\n",
    "    \"\"\"Function for creating the dummy variable\"\"\"\n",
    "    if row < datetime(2017, 1, 1):\n",
    "        return 0\n",
    "    else:\n",
    "        return 1"
   ]
  },
  {
   "cell_type": "code",
   "execution_count": 5,
   "metadata": {},
   "outputs": [],
   "source": [
    "df.timestamps = pd.to_datetime(df.timestamps)\n",
    "df['Ordinal_Timestamps']=df['timestamps'].map(datetime.toordinal)\n",
    "df['dummy'] = df.timestamps.apply(create_dummy)"
   ]
  },
  {
   "cell_type": "code",
   "execution_count": 6,
   "metadata": {},
   "outputs": [],
   "source": [
    "def regression_discontinuity(x, y, dummy, df, discontinuity_point):\n",
    "    \"\"\"Function that generates both the regression statistics and the plotting\n",
    "            x= the time variable we want to use (in this case week)\n",
    "            y = the output variable (in this case the network statistic)\n",
    "            dummy = the dummy variable created\n",
    "            df = the data frame\n",
    "            discontinuity_point = here we want the week that the change occurred \n",
    "    \"\"\"\n",
    "    \n",
    "    #regression\n",
    "    result = smf.ols('{} ~  + {}  + {}'.format(y, x, dummy), data = df).fit()\n",
    "    print(result.summary())\n",
    "    \n",
    "    #plotting\n",
    "    plt.scatter(df[x], df[y])\n",
    "    l=df[df[x]<discontinuity_point][x].count()\n",
    "    plt.plot(df[x][0:l], result.predict()[0:l], '-', color=\"r\")\n",
    "    plt.plot(df[x][l:], result.predict()[l:], '-', color=\"r\")\n",
    "    plt.axvline(x=discontinuity_point,color=\"black\", linestyle=\"--\")\n",
    "    plt.show()"
   ]
  },
  {
   "cell_type": "code",
   "execution_count": 8,
   "metadata": {},
   "outputs": [
    {
     "name": "stdout",
     "output_type": "stream",
     "text": [
      "                            OLS Regression Results                            \n",
      "==============================================================================\n",
      "Dep. Variable:                topic_0   R-squared:                       0.003\n",
      "Model:                            OLS   Adj. R-squared:                 -0.020\n",
      "Method:                 Least Squares   F-statistic:                    0.1303\n",
      "Date:                Wed, 03 Apr 2019   Prob (F-statistic):              0.878\n",
      "Time:                        21:03:43   Log-Likelihood:                 191.01\n",
      "No. Observations:                  88   AIC:                            -376.0\n",
      "Df Residuals:                      85   BIC:                            -368.6\n",
      "Df Model:                           2                                         \n",
      "Covariance Type:            nonrobust                                         \n",
      "======================================================================================\n",
      "                         coef    std err          t      P>|t|      [0.025      0.975]\n",
      "--------------------------------------------------------------------------------------\n",
      "Intercept             -1.5337     23.657     -0.065      0.948     -48.570      45.502\n",
      "Ordinal_Timestamps  2.769e-06   3.21e-05      0.086      0.932   -6.11e-05    6.67e-05\n",
      "dummy                  0.0022      0.012      0.190      0.849      -0.021       0.025\n",
      "==============================================================================\n",
      "Omnibus:                      152.560   Durbin-Watson:                   1.908\n",
      "Prob(Omnibus):                  0.000   Jarque-Bera (JB):             9548.153\n",
      "Skew:                          -6.314   Prob(JB):                         0.00\n",
      "Kurtosis:                      52.443   Cond. No.                     5.82e+09\n",
      "==============================================================================\n",
      "\n",
      "Warnings:\n",
      "[1] Standard Errors assume that the covariance matrix of the errors is correctly specified.\n",
      "[2] The condition number is large, 5.82e+09. This might indicate that there are\n",
      "strong multicollinearity or other numerical problems.\n"
     ]
    },
    {
     "data": {
      "image/png": "[encoded data removed]",
      "text/plain": [
       "<Figure size 432x288 with 1 Axes>"
      ]
     },
     "metadata": {},
     "output_type": "display_data"
    }
   ],
   "source": [
    "regression_discontinuity(x = 'Ordinal_Timestamps', y = 'topic_0', dummy = 'dummy', df = df, \n",
    "                         discontinuity_point=datetime.toordinal(datetime(2017, 1, 1)))"
   ]
  },
  {
   "cell_type": "code",
   "execution_count": 9,
   "metadata": {},
   "outputs": [
    {
     "name": "stdout",
     "output_type": "stream",
     "text": [
      "                            OLS Regression Results                            \n",
      "==============================================================================\n",
      "Dep. Variable:                topic_1   R-squared:                       0.090\n",
      "Model:                            OLS   Adj. R-squared:                  0.068\n",
      "Method:                 Least Squares   F-statistic:                     4.198\n",
      "Date:                Wed, 03 Apr 2019   Prob (F-statistic):             0.0183\n",
      "Time:                        21:18:16   Log-Likelihood:                 208.42\n",
      "No. Observations:                  88   AIC:                            -410.8\n",
      "Df Residuals:                      85   BIC:                            -403.4\n",
      "Df Model:                           2                                         \n",
      "Covariance Type:            nonrobust                                         \n",
      "======================================================================================\n",
      "                         coef    std err          t      P>|t|      [0.025      0.975]\n",
      "--------------------------------------------------------------------------------------\n",
      "Intercept             24.7075     19.412      1.273      0.207     -13.888      63.303\n",
      "Ordinal_Timestamps -3.302e-05   2.64e-05     -1.252      0.214   -8.55e-05    1.94e-05\n",
      "dummy                 -0.0029      0.010     -0.303      0.763      -0.022       0.016\n",
      "==============================================================================\n",
      "Omnibus:                      136.369   Durbin-Watson:                   1.932\n",
      "Prob(Omnibus):                  0.000   Jarque-Bera (JB):             6126.424\n",
      "Skew:                          -5.291   Prob(JB):                         0.00\n",
      "Kurtosis:                      42.482   Cond. No.                     5.82e+09\n",
      "==============================================================================\n",
      "\n",
      "Warnings:\n",
      "[1] Standard Errors assume that the covariance matrix of the errors is correctly specified.\n",
      "[2] The condition number is large, 5.82e+09. This might indicate that there are\n",
      "strong multicollinearity or other numerical problems.\n"
     ]
    },
    {
     "data": {
      "image/png": "[encoded data removed]",
      "text/plain": [
       "<Figure size 432x288 with 1 Axes>"
      ]
     },
     "metadata": {},
     "output_type": "display_data"
    }
   ],
   "source": [
    "regression_discontinuity(x = 'Ordinal_Timestamps', y = 'topic_1', dummy = 'dummy', df = df, \n",
    "                         discontinuity_point=datetime.toordinal(datetime(2017, 1, 1)))"
   ]
  },
  {
   "cell_type": "markdown",
   "metadata": {},
   "source": [
    "We see that none of our topics are significant showing that there is no change in topic proportion before and after the policy implementation day"
   ]
  },
  {
   "cell_type": "code",
   "execution_count": null,
   "metadata": {},
   "outputs": [],
   "source": []
  }
 ],
 "metadata": {
  "kernelspec": {
   "display_name": "Python 3",
   "language": "python",
   "name": "python3"
  },
  "language_info": {
   "codemirror_mode": {
    "name": "ipython",
    "version": 3
   },
   "file_extension": ".py",
   "mimetype": "text/x-python",
   "name": "python",
   "nbconvert_exporter": "python",
   "pygments_lexer": "ipython3",
   "version": "3.6.7"
  }
 },
 "nbformat": 4,
 "nbformat_minor": 2
}
