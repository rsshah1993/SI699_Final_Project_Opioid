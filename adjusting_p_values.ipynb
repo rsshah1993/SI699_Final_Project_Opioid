{
 "cells": [
  {
   "cell_type": "markdown",
   "metadata": {},
   "source": [
    "## Adjusting P-Values using False Discovery Rate (BH Method)"
   ]
  },
  {
   "cell_type": "code",
   "execution_count": 2,
   "metadata": {},
   "outputs": [],
   "source": [
    "import numpy as np \n",
    "from statsmodels.stats.multitest import multipletests\n",
    "import pandas as pd"
   ]
  },
  {
   "cell_type": "code",
   "execution_count": 14,
   "metadata": {},
   "outputs": [],
   "source": [
    "p_values = [0.007, 0.005, 0.000, 0.000, 0.754, 0.000, 0.023, 0.924, 0.316, 0.000, 0.849, 0.763, 0.971]\n",
    "outcome_variables = ('Sent', 'Act. Usrs', 'Act.Usr (Order 2)', 'Num Conn.', 'Sob. Ind', 'Conn/user',\n",
    "'Prop. New.', 'Density', 'Avg. Clus.', 'Num Conn (Order 2)', 'Topic 0','Topic 1',\n",
    "'Topic 2')"
   ]
  },
  {
   "cell_type": "code",
   "execution_count": 15,
   "metadata": {},
   "outputs": [],
   "source": [
    "x = multipletests(pvals=p_values, alpha = .05, method = 'fdr_bh')"
   ]
  },
  {
   "cell_type": "code",
   "execution_count": 16,
   "metadata": {},
   "outputs": [],
   "source": [
    "adjusted_p_values = x[1]\n",
    "# adjusted_p_values = [p for p in adjusted_p_values if p<.05]"
   ]
  },
  {
   "cell_type": "code",
   "execution_count": 17,
   "metadata": {},
   "outputs": [],
   "source": [
    "p_values = np.array(p_values)\n",
    "# p_values = [p for p in p_values if p<.05]"
   ]
  },
  {
   "cell_type": "code",
   "execution_count": 18,
   "metadata": {},
   "outputs": [],
   "source": [
    "import seaborn as sns\n",
    "import matplotlib.pyplot as plt\n",
    "%matplotlib inline"
   ]
  },
  {
   "cell_type": "code",
   "execution_count": 19,
   "metadata": {},
   "outputs": [
    {
     "name": "stderr",
     "output_type": "stream",
     "text": [
      "/Users/romilshah/anaconda3/lib/python3.6/site-packages/scipy/stats/stats.py:1713: FutureWarning: Using a non-tuple sequence for multidimensional indexing is deprecated; use `arr[tuple(seq)]` instead of `arr[seq]`. In the future this will be interpreted as an array index, `arr[np.array(seq)]`, which will result either in an error or a different result.\n",
      "  return np.add.reduce(sorted[indexer] * weights, axis=axis) / sumval\n"
     ]
    },
    {
     "data": {
      "text/plain": [
       "<matplotlib.legend.Legend at 0x1a0f4e43c8>"
      ]
     },
     "execution_count": 19,
     "metadata": {},
     "output_type": "execute_result"
    },
    {
     "data": {
      "image/png": "[encoded data removed]",
      "text/plain": [
       "<Figure size 432x288 with 1 Axes>"
      ]
     },
     "metadata": {},
     "output_type": "display_data"
    }
   ],
   "source": [
    "plt.xlim(0, 1)\n",
    "sns.distplot(p_values, bins = 20, label = 'Original P-values')\n",
    "sns.distplot(adjusted_p_values, bins = 20, label = 'Adjusted P-values')\n",
    "plt.legend()"
   ]
  },
  {
   "cell_type": "code",
   "execution_count": 20,
   "metadata": {},
   "outputs": [
    {
     "data": {
      "text/plain": [
       "array([0.007, 0.005, 0.   , 0.   , 0.754, 0.   , 0.023, 0.924, 0.316,\n",
       "       0.   , 0.849, 0.763, 0.971])"
      ]
     },
     "execution_count": 20,
     "metadata": {},
     "output_type": "execute_result"
    }
   ],
   "source": [
    "p_values"
   ]
  },
  {
   "cell_type": "code",
   "execution_count": 21,
   "metadata": {},
   "outputs": [
    {
     "data": {
      "text/plain": [
       "array([0.01516667, 0.013     , 0.        , 0.        , 0.971     ,\n",
       "       0.        , 0.04271429, 0.971     , 0.5135    , 0.        ,\n",
       "       0.971     , 0.971     , 0.971     ])"
      ]
     },
     "execution_count": 21,
     "metadata": {},
     "output_type": "execute_result"
    }
   ],
   "source": [
    "adjusted_p_values"
   ]
  },
  {
   "cell_type": "code",
   "execution_count": 22,
   "metadata": {},
   "outputs": [],
   "source": [
    "df = pd.DataFrame({'p-values':p_values, 'adjusted-p-values':adjusted_p_values}, index = outcome_variables)"
   ]
  },
  {
   "cell_type": "code",
   "execution_count": 23,
   "metadata": {},
   "outputs": [],
   "source": [
    "df['reject'] = np.where(df['p-values']<= df['adjusted-p-values'], 1, 0)"
   ]
  },
  {
   "cell_type": "code",
   "execution_count": 24,
   "metadata": {},
   "outputs": [
    {
     "data": {
      "text/html": [
       "<div>\n",
       "<style scoped>\n",
       "    .dataframe tbody tr th:only-of-type {\n",
       "        vertical-align: middle;\n",
       "    }\n",
       "\n",
       "    .dataframe tbody tr th {\n",
       "        vertical-align: top;\n",
       "    }\n",
       "\n",
       "    .dataframe thead th {\n",
       "        text-align: right;\n",
       "    }\n",
       "</style>\n",
       "<table border=\"1\" class=\"dataframe\">\n",
       "  <thead>\n",
       "    <tr style=\"text-align: right;\">\n",
       "      <th></th>\n",
       "      <th>p-values</th>\n",
       "      <th>adjusted-p-values</th>\n",
       "      <th>reject</th>\n",
       "    </tr>\n",
       "  </thead>\n",
       "  <tbody>\n",
       "    <tr>\n",
       "      <th>Sent</th>\n",
       "      <td>0.007</td>\n",
       "      <td>0.015167</td>\n",
       "      <td>1</td>\n",
       "    </tr>\n",
       "    <tr>\n",
       "      <th>Act. Usrs</th>\n",
       "      <td>0.005</td>\n",
       "      <td>0.013000</td>\n",
       "      <td>1</td>\n",
       "    </tr>\n",
       "    <tr>\n",
       "      <th>Act.Usr (Order 2)</th>\n",
       "      <td>0.000</td>\n",
       "      <td>0.000000</td>\n",
       "      <td>1</td>\n",
       "    </tr>\n",
       "    <tr>\n",
       "      <th>Num Conn.</th>\n",
       "      <td>0.000</td>\n",
       "      <td>0.000000</td>\n",
       "      <td>1</td>\n",
       "    </tr>\n",
       "    <tr>\n",
       "      <th>Sob. Ind</th>\n",
       "      <td>0.754</td>\n",
       "      <td>0.971000</td>\n",
       "      <td>1</td>\n",
       "    </tr>\n",
       "    <tr>\n",
       "      <th>Conn/user</th>\n",
       "      <td>0.000</td>\n",
       "      <td>0.000000</td>\n",
       "      <td>1</td>\n",
       "    </tr>\n",
       "    <tr>\n",
       "      <th>Prop. New.</th>\n",
       "      <td>0.023</td>\n",
       "      <td>0.042714</td>\n",
       "      <td>1</td>\n",
       "    </tr>\n",
       "    <tr>\n",
       "      <th>Density</th>\n",
       "      <td>0.924</td>\n",
       "      <td>0.971000</td>\n",
       "      <td>1</td>\n",
       "    </tr>\n",
       "    <tr>\n",
       "      <th>Avg. Clus.</th>\n",
       "      <td>0.316</td>\n",
       "      <td>0.513500</td>\n",
       "      <td>1</td>\n",
       "    </tr>\n",
       "    <tr>\n",
       "      <th>Num Conn (Order 2)</th>\n",
       "      <td>0.000</td>\n",
       "      <td>0.000000</td>\n",
       "      <td>1</td>\n",
       "    </tr>\n",
       "    <tr>\n",
       "      <th>Topic 0</th>\n",
       "      <td>0.849</td>\n",
       "      <td>0.971000</td>\n",
       "      <td>1</td>\n",
       "    </tr>\n",
       "    <tr>\n",
       "      <th>Topic 1</th>\n",
       "      <td>0.763</td>\n",
       "      <td>0.971000</td>\n",
       "      <td>1</td>\n",
       "    </tr>\n",
       "    <tr>\n",
       "      <th>Topic 2</th>\n",
       "      <td>0.971</td>\n",
       "      <td>0.971000</td>\n",
       "      <td>1</td>\n",
       "    </tr>\n",
       "  </tbody>\n",
       "</table>\n",
       "</div>"
      ],
      "text/plain": [
       "                    p-values  adjusted-p-values  reject\n",
       "Sent                   0.007           0.015167       1\n",
       "Act. Usrs              0.005           0.013000       1\n",
       "Act.Usr (Order 2)      0.000           0.000000       1\n",
       "Num Conn.              0.000           0.000000       1\n",
       "Sob. Ind               0.754           0.971000       1\n",
       "Conn/user              0.000           0.000000       1\n",
       "Prop. New.             0.023           0.042714       1\n",
       "Density                0.924           0.971000       1\n",
       "Avg. Clus.             0.316           0.513500       1\n",
       "Num Conn (Order 2)     0.000           0.000000       1\n",
       "Topic 0                0.849           0.971000       1\n",
       "Topic 1                0.763           0.971000       1\n",
       "Topic 2                0.971           0.971000       1"
      ]
     },
     "execution_count": 24,
     "metadata": {},
     "output_type": "execute_result"
    }
   ],
   "source": [
    "df"
   ]
  },
  {
   "cell_type": "code",
   "execution_count": null,
   "metadata": {},
   "outputs": [],
   "source": []
  },
  {
   "cell_type": "code",
   "execution_count": 25,
   "metadata": {},
   "outputs": [],
   "source": [
    "p_values = np.sort(p_values)\n",
    "adjusted_p_values = np.sort(adjusted_p_values)"
   ]
  },
  {
   "cell_type": "code",
   "execution_count": null,
   "metadata": {},
   "outputs": [],
   "source": [
    "\n"
   ]
  },
  {
   "cell_type": "code",
   "execution_count": 26,
   "metadata": {},
   "outputs": [
    {
     "name": "stdout",
     "output_type": "stream",
     "text": [
      "[-2.  0.  2.  4.  6.  8. 10. 12. 14.]\n"
     ]
    },
    {
     "data": {
      "image/png": "[encoded data removed]",
      "text/plain": [
       "<Figure size 1440x720 with 1 Axes>"
      ]
     },
     "metadata": {},
     "output_type": "display_data"
    }
   ],
   "source": [
    "plt.figure(figsize = (20, 10))\n",
    "plt.plot(p_values, label = 'Original P-Values', marker = 'o', linestyle = 'None')\n",
    "plt.plot(adjusted_p_values, label= 'Adjusted P-Values', c= 'r')\n",
    "plt.legend()\n",
    "plt.title('Adjusted vs. Original P-values (False Discovery Rate)')\n",
    "locs, labels = plt.xticks()\n",
    "plt.xticks(range(len(outcome_variables)), outcome_variables)\n",
    "plt.xlabel('Outcome Variables')\n",
    "plt.ylabel('P-Value')\n",
    "plt.savefig('Adjusted P-Values.png')\n",
    "print(locs)"
   ]
  },
  {
   "cell_type": "code",
   "execution_count": null,
   "metadata": {},
   "outputs": [],
   "source": []
  }
 ],
 "metadata": {
  "kernelspec": {
   "display_name": "Python 3",
   "language": "python",
   "name": "python3"
  },
  "language_info": {
   "codemirror_mode": {
    "name": "ipython",
    "version": 3
   },
   "file_extension": ".py",
   "mimetype": "text/x-python",
   "name": "python",
   "nbconvert_exporter": "python",
   "pygments_lexer": "ipython3",
   "version": "3.6.7"
  }
 },
 "nbformat": 4,
 "nbformat_minor": 2
}
