{
 "cells": [
  {
   "cell_type": "markdown",
   "metadata": {},
   "source": [
    "## Regression Discontinuity Analysis for Sobriety Indicator"
   ]
  },
  {
   "cell_type": "markdown",
   "metadata": {},
   "source": [
    "This code is utilized to measure whether their was a causal effect on sobriety indicator developed by the policy. The sobriety indicator is a simple regex expression which finds patterns matching _(number) + (days, months, years) + (sober, clean, [of] sobriety)_. There are also some negations included at the beginning of the pattern in order to counteract expressions such as: _\"I had x days sober, but...\"_. This simple methodology was found to be quiet effective at finding indicators because it seems to be a common way of indicating one's sobriety, which was developed out of AA and NA. Each comment was assigned a binary variable dependent on whether sobriety was indicated or not. This data was then grouped by week and the proportion of comments per week indicating sobriety were utilized for our regression"
   ]
  },
  {
   "cell_type": "code",
   "execution_count": 2,
   "metadata": {},
   "outputs": [],
   "source": [
    "import pandas as pd\n",
    "import numpy as np \n",
    "import statsmodels.api as sm\n",
    "import statsmodels.formula.api as smf\n",
    "import matplotlib.pyplot as plt\n",
    "import datetime\n",
    "%matplotlib inline\n",
    "from pytz import timezone\n",
    "import time\n",
    "from datetime import datetime"
   ]
  },
  {
   "cell_type": "code",
   "execution_count": 3,
   "metadata": {},
   "outputs": [],
   "source": [
    "df = pd.read_csv('sobriety_indicator_counts_16_17.csv', header = None)\n",
    "df.columns = ['timestamps', 'sobriety_indicator_counts']"
   ]
  },
  {
   "cell_type": "code",
   "execution_count": 4,
   "metadata": {},
   "outputs": [],
   "source": [
    "def create_dummy(row):\n",
    "    \"\"\"Function for creating the dummy variable\"\"\"\n",
    "    if row < datetime(2017, 1, 1):\n",
    "        return 0\n",
    "    else:\n",
    "        return 1"
   ]
  },
  {
   "cell_type": "code",
   "execution_count": 5,
   "metadata": {},
   "outputs": [],
   "source": [
    "df.timestamps = pd.to_datetime(df.timestamps)\n",
    "##Convert timestamps to oridinal timestamps in order to perform the regression\n",
    "df['Ordinal_Timestamps']=df['timestamps'].map(datetime.toordinal)\n",
    "df['dummy'] = df.timestamps.apply(create_dummy)"
   ]
  },
  {
   "cell_type": "code",
   "execution_count": 6,
   "metadata": {},
   "outputs": [],
   "source": [
    "def regression_discontinuity(x, y, dummy, df, discontinuity_point):\n",
    "    \"\"\"Function that generates both the regression statistics and the plotting\n",
    "            x= the time variable we want to use (in this case week)\n",
    "            y = the output variable (in this case the network statistic)\n",
    "            dummy = the dummy variable created\n",
    "            df = the data frame\n",
    "            discontinuity_point = here we want the week that the change occurred \n",
    "    \"\"\"\n",
    "    \n",
    "    #regression\n",
    "    result = smf.ols('{} ~  {} + {}'.format(y, x,  dummy), data = df).fit()\n",
    "    print(result.summary())\n",
    "    \n",
    "    #plotting\n",
    "    plt.scatter(df[x], df[y])\n",
    "    l=df[df[x]<discontinuity_point][x].count()\n",
    "    plt.plot(df[x][0:l], result.predict()[0:l], '-', color=\"r\")\n",
    "    plt.plot(df[x][l:], result.predict()[l:], '-', color=\"r\")\n",
    "    plt.axvline(x=discontinuity_point,color=\"black\", linestyle=\"--\")\n",
    "    plt.show()"
   ]
  },
  {
   "cell_type": "code",
   "execution_count": 7,
   "metadata": {},
   "outputs": [
    {
     "name": "stdout",
     "output_type": "stream",
     "text": [
      "                                OLS Regression Results                               \n",
      "=====================================================================================\n",
      "Dep. Variable:     sobriety_indicator_counts   R-squared:                       0.091\n",
      "Model:                                   OLS   Adj. R-squared:                  0.069\n",
      "Method:                        Least Squares   F-statistic:                     4.243\n",
      "Date:                       Thu, 04 Apr 2019   Prob (F-statistic):             0.0175\n",
      "Time:                               11:57:32   Log-Likelihood:                 589.03\n",
      "No. Observations:                         88   AIC:                            -1172.\n",
      "Df Residuals:                             85   BIC:                            -1165.\n",
      "Df Model:                                  2                                         \n",
      "Covariance Type:                   nonrobust                                         \n",
      "======================================================================================\n",
      "                         coef    std err          t      P>|t|      [0.025      0.975]\n",
      "--------------------------------------------------------------------------------------\n",
      "Intercept             -0.6720      0.257     -2.616      0.011      -1.183      -0.161\n",
      "Ordinal_Timestamps  9.146e-07   3.49e-07      2.621      0.010    2.21e-07    1.61e-06\n",
      "dummy                 -0.0002      0.000     -1.567      0.121      -0.000    5.32e-05\n",
      "==============================================================================\n",
      "Omnibus:                        6.084   Durbin-Watson:                   1.079\n",
      "Prob(Omnibus):                  0.048   Jarque-Bera (JB):                5.488\n",
      "Skew:                           0.589   Prob(JB):                       0.0643\n",
      "Kurtosis:                       3.331   Cond. No.                     5.82e+09\n",
      "==============================================================================\n",
      "\n",
      "Warnings:\n",
      "[1] Standard Errors assume that the covariance matrix of the errors is correctly specified.\n",
      "[2] The condition number is large, 5.82e+09. This might indicate that there are\n",
      "strong multicollinearity or other numerical problems.\n"
     ]
    },
    {
     "data": {
      "image/png": "[encoded data removed]",
      "text/plain": [
       "<Figure size 432x288 with 1 Axes>"
      ]
     },
     "metadata": {},
     "output_type": "display_data"
    }
   ],
   "source": [
    "regression_discontinuity(x = 'Ordinal_Timestamps', y = 'sobriety_indicator_counts', dummy = 'dummy', df = df, \n",
    "                         discontinuity_point=datetime.toordinal(datetime(2017, 1, 1)))"
   ]
  },
  {
   "cell_type": "markdown",
   "metadata": {},
   "source": [
    "Here we can see almost no fluctuation in the proportion of comments indicating sobriety over the two years. We see that the p-value for the discontinuity point is 0.121, which is not significant."
   ]
  },
  {
   "cell_type": "code",
   "execution_count": null,
   "metadata": {},
   "outputs": [],
   "source": []
  }
 ],
 "metadata": {
  "kernelspec": {
   "display_name": "Python 3",
   "language": "python",
   "name": "python3"
  },
  "language_info": {
   "codemirror_mode": {
    "name": "ipython",
    "version": 3
   },
   "file_extension": ".py",
   "mimetype": "text/x-python",
   "name": "python",
   "nbconvert_exporter": "python",
   "pygments_lexer": "ipython3",
   "version": "3.6.7"
  }
 },
 "nbformat": 4,
 "nbformat_minor": 2
}
