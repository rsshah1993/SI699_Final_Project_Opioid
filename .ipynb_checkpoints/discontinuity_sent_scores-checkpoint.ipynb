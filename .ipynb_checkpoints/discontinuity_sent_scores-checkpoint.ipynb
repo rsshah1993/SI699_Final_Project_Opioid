{
 "cells": [
  {
   "cell_type": "markdown",
   "metadata": {},
   "source": [
    "**REGRESSION DISCONTINUITY FOR SENTIMENT SCORES AGGREGATED BY WEEK: RANGE = 2016-2017**"
   ]
  },
  {
   "cell_type": "code",
   "execution_count": 1,
   "metadata": {},
   "outputs": [],
   "source": [
    "import pandas as pd\n",
    "import numpy as np \n",
    "import statsmodels.api as sm\n",
    "import statsmodels.formula.api as smf\n",
    "import matplotlib.pyplot as plt\n",
    "import datetime\n",
    "%matplotlib inline\n",
    "from pytz import timezone\n",
    "import time\n",
    "from datetime import datetime"
   ]
  },
  {
   "cell_type": "code",
   "execution_count": 10,
   "metadata": {},
   "outputs": [],
   "source": [
    "df = pd.read_csv('aggregated_sentiment_scores_2016_2017.csv', header = None)\n",
    "df.columns = ['timestamps', 'sent_scores']"
   ]
  },
  {
   "cell_type": "code",
   "execution_count": 11,
   "metadata": {},
   "outputs": [
    {
     "data": {
      "text/html": [
       "<div>\n",
       "<style scoped>\n",
       "    .dataframe tbody tr th:only-of-type {\n",
       "        vertical-align: middle;\n",
       "    }\n",
       "\n",
       "    .dataframe tbody tr th {\n",
       "        vertical-align: top;\n",
       "    }\n",
       "\n",
       "    .dataframe thead th {\n",
       "        text-align: right;\n",
       "    }\n",
       "</style>\n",
       "<table border=\"1\" class=\"dataframe\">\n",
       "  <thead>\n",
       "    <tr style=\"text-align: right;\">\n",
       "      <th></th>\n",
       "      <th>timestamps</th>\n",
       "      <th>sent_scores</th>\n",
       "    </tr>\n",
       "  </thead>\n",
       "  <tbody>\n",
       "    <tr>\n",
       "      <th>0</th>\n",
       "      <td>2016-01-03</td>\n",
       "      <td>0.155944</td>\n",
       "    </tr>\n",
       "    <tr>\n",
       "      <th>1</th>\n",
       "      <td>2016-01-10</td>\n",
       "      <td>0.140377</td>\n",
       "    </tr>\n",
       "    <tr>\n",
       "      <th>2</th>\n",
       "      <td>2016-01-17</td>\n",
       "      <td>0.131745</td>\n",
       "    </tr>\n",
       "    <tr>\n",
       "      <th>3</th>\n",
       "      <td>2016-01-24</td>\n",
       "      <td>0.127904</td>\n",
       "    </tr>\n",
       "    <tr>\n",
       "      <th>4</th>\n",
       "      <td>2016-01-31</td>\n",
       "      <td>0.126573</td>\n",
       "    </tr>\n",
       "  </tbody>\n",
       "</table>\n",
       "</div>"
      ],
      "text/plain": [
       "   timestamps  sent_scores\n",
       "0  2016-01-03     0.155944\n",
       "1  2016-01-10     0.140377\n",
       "2  2016-01-17     0.131745\n",
       "3  2016-01-24     0.127904\n",
       "4  2016-01-31     0.126573"
      ]
     },
     "execution_count": 11,
     "metadata": {},
     "output_type": "execute_result"
    }
   ],
   "source": [
    "df.head()"
   ]
  },
  {
   "cell_type": "code",
   "execution_count": 23,
   "metadata": {},
   "outputs": [],
   "source": [
    "def create_dummy(row):\n",
    "    \"\"\"Function for creating the dummy variable\"\"\"\n",
    "    if row < datetime(2017, 3, 23):\n",
    "        return 0\n",
    "    else:\n",
    "        return 1"
   ]
  },
  {
   "cell_type": "code",
   "execution_count": 16,
   "metadata": {},
   "outputs": [],
   "source": [
    "df.timestamps = pd.to_datetime(df.timestamps)\n",
    "df['Ordinal_Timestamps']=df['timestamps'].map(datetime.toordinal)\n",
    "df['dummy'] = df.timestamps.apply(create_dummy)"
   ]
  },
  {
   "cell_type": "code",
   "execution_count": 17,
   "metadata": {},
   "outputs": [
    {
     "data": {
      "text/html": [
       "<div>\n",
       "<style scoped>\n",
       "    .dataframe tbody tr th:only-of-type {\n",
       "        vertical-align: middle;\n",
       "    }\n",
       "\n",
       "    .dataframe tbody tr th {\n",
       "        vertical-align: top;\n",
       "    }\n",
       "\n",
       "    .dataframe thead th {\n",
       "        text-align: right;\n",
       "    }\n",
       "</style>\n",
       "<table border=\"1\" class=\"dataframe\">\n",
       "  <thead>\n",
       "    <tr style=\"text-align: right;\">\n",
       "      <th></th>\n",
       "      <th>timestamps</th>\n",
       "      <th>sent_scores</th>\n",
       "      <th>Ordinal_Timestamps</th>\n",
       "      <th>dummy</th>\n",
       "    </tr>\n",
       "  </thead>\n",
       "  <tbody>\n",
       "    <tr>\n",
       "      <th>0</th>\n",
       "      <td>2016-01-03</td>\n",
       "      <td>0.155944</td>\n",
       "      <td>735966</td>\n",
       "      <td>0</td>\n",
       "    </tr>\n",
       "    <tr>\n",
       "      <th>1</th>\n",
       "      <td>2016-01-10</td>\n",
       "      <td>0.140377</td>\n",
       "      <td>735973</td>\n",
       "      <td>0</td>\n",
       "    </tr>\n",
       "    <tr>\n",
       "      <th>2</th>\n",
       "      <td>2016-01-17</td>\n",
       "      <td>0.131745</td>\n",
       "      <td>735980</td>\n",
       "      <td>0</td>\n",
       "    </tr>\n",
       "    <tr>\n",
       "      <th>3</th>\n",
       "      <td>2016-01-24</td>\n",
       "      <td>0.127904</td>\n",
       "      <td>735987</td>\n",
       "      <td>0</td>\n",
       "    </tr>\n",
       "    <tr>\n",
       "      <th>4</th>\n",
       "      <td>2016-01-31</td>\n",
       "      <td>0.126573</td>\n",
       "      <td>735994</td>\n",
       "      <td>0</td>\n",
       "    </tr>\n",
       "  </tbody>\n",
       "</table>\n",
       "</div>"
      ],
      "text/plain": [
       "  timestamps  sent_scores  Ordinal_Timestamps  dummy\n",
       "0 2016-01-03     0.155944              735966      0\n",
       "1 2016-01-10     0.140377              735973      0\n",
       "2 2016-01-17     0.131745              735980      0\n",
       "3 2016-01-24     0.127904              735987      0\n",
       "4 2016-01-31     0.126573              735994      0"
      ]
     },
     "execution_count": 17,
     "metadata": {},
     "output_type": "execute_result"
    }
   ],
   "source": [
    "df.head()"
   ]
  },
  {
   "cell_type": "code",
   "execution_count": 18,
   "metadata": {},
   "outputs": [],
   "source": [
    "def regression_discontinuity(x, y, dummy, df, discontinuity_point):\n",
    "    \"\"\"Function that generates both the regression statistics and the plotting\n",
    "            x= the time variable we want to use (in this case week)\n",
    "            y = the output variable (in this case the network statistic)\n",
    "            dummy = the dummy variable created\n",
    "            df = the data frame\n",
    "            discontinuity_point = here we want the week that the change occurred \n",
    "    \"\"\"\n",
    "    \n",
    "    #regression\n",
    "    result = smf.ols('{} ~  + {}  + {}'.format(y, x, dummy), data = df).fit()\n",
    "    print(result.summary())\n",
    "    \n",
    "    #plotting\n",
    "    plt.scatter(df[x], df[y])\n",
    "    l=df[df[x]<discontinuity_point][x].count()\n",
    "    plt.plot(df[x][0:l], result.predict()[0:l], '-', color=\"r\")\n",
    "    plt.plot(df[x][l:], result.predict()[l:], '-', color=\"r\")\n",
    "    plt.axvline(x=discontinuity_point,color=\"black\", linestyle=\"--\")\n",
    "    plt.show()"
   ]
  },
  {
   "cell_type": "code",
   "execution_count": 19,
   "metadata": {},
   "outputs": [
    {
     "name": "stdout",
     "output_type": "stream",
     "text": [
      "                            OLS Regression Results                            \n",
      "==============================================================================\n",
      "Dep. Variable:            sent_scores   R-squared:                       0.184\n",
      "Model:                            OLS   Adj. R-squared:                  0.165\n",
      "Method:                 Least Squares   F-statistic:                     9.570\n",
      "Date:                Wed, 20 Mar 2019   Prob (F-statistic):           0.000178\n",
      "Time:                        12:29:56   Log-Likelihood:                 300.38\n",
      "No. Observations:                  88   AIC:                            -594.8\n",
      "Df Residuals:                      85   BIC:                            -587.3\n",
      "Df Model:                           2                                         \n",
      "Covariance Type:            nonrobust                                         \n",
      "======================================================================================\n",
      "                         coef    std err          t      P>|t|      [0.025      0.975]\n",
      "--------------------------------------------------------------------------------------\n",
      "Intercept              4.0015      6.826      0.586      0.559      -9.571      17.574\n",
      "Ordinal_Timestamps -5.255e-06   9.27e-06     -0.567      0.572   -2.37e-05    1.32e-05\n",
      "dummy                  0.0092      0.003      2.756      0.007       0.003       0.016\n",
      "==============================================================================\n",
      "Omnibus:                        0.921   Durbin-Watson:                   1.639\n",
      "Prob(Omnibus):                  0.631   Jarque-Bera (JB):                0.998\n",
      "Skew:                           0.227   Prob(JB):                        0.607\n",
      "Kurtosis:                       2.744   Cond. No.                     5.82e+09\n",
      "==============================================================================\n",
      "\n",
      "Warnings:\n",
      "[1] Standard Errors assume that the covariance matrix of the errors is correctly specified.\n",
      "[2] The condition number is large, 5.82e+09. This might indicate that there are\n",
      "strong multicollinearity or other numerical problems.\n"
     ]
    },
    {
     "data": {
      "image/png": "[encoded data removed]",
      "text/plain": [
       "<Figure size 432x288 with 1 Axes>"
      ]
     },
     "metadata": {},
     "output_type": "display_data"
    }
   ],
   "source": [
    "regression_discontinuity(x = 'Ordinal_Timestamps', y = 'sent_scores', dummy = 'dummy', df = df, \n",
    "                         discontinuity_point=datetime.toordinal(datetime(2017, 1, 1)))"
   ]
  },
  {
   "cell_type": "markdown",
   "metadata": {},
   "source": [
    "We see that we get a significant discontinuity value showing that there is some difference between the treatment groups. To further validate our results, we will test on a couple of random dates in order to see if these points are significant. First random point is May 5th, 2016"
   ]
  },
  {
   "cell_type": "markdown",
   "metadata": {},
   "source": [
    "**CHECKING RANDOM POINTS**"
   ]
  },
  {
   "cell_type": "code",
   "execution_count": 21,
   "metadata": {},
   "outputs": [],
   "source": [
    "df['random_point_1'] = df.timestamps.apply(create_dummy)"
   ]
  },
  {
   "cell_type": "code",
   "execution_count": 22,
   "metadata": {},
   "outputs": [
    {
     "name": "stdout",
     "output_type": "stream",
     "text": [
      "                            OLS Regression Results                            \n",
      "==============================================================================\n",
      "Dep. Variable:            sent_scores   R-squared:                       0.111\n",
      "Model:                            OLS   Adj. R-squared:                  0.090\n",
      "Method:                 Least Squares   F-statistic:                     5.298\n",
      "Date:                Wed, 20 Mar 2019   Prob (F-statistic):            0.00678\n",
      "Time:                        12:43:31   Log-Likelihood:                 296.62\n",
      "No. Observations:                  88   AIC:                            -587.2\n",
      "Df Residuals:                      85   BIC:                            -579.8\n",
      "Df Model:                           2                                         \n",
      "Covariance Type:            nonrobust                                         \n",
      "======================================================================================\n",
      "                         coef    std err          t      P>|t|      [0.025      0.975]\n",
      "--------------------------------------------------------------------------------------\n",
      "Intercept            -12.1059      5.219     -2.320      0.023     -22.482      -1.729\n",
      "Ordinal_Timestamps  1.663e-05   7.09e-06      2.345      0.021    2.53e-06    3.07e-05\n",
      "random_point_1     -7.239e-05      0.003     -0.023      0.982      -0.006       0.006\n",
      "==============================================================================\n",
      "Omnibus:                        1.318   Durbin-Watson:                   1.527\n",
      "Prob(Omnibus):                  0.517   Jarque-Bera (JB):                1.175\n",
      "Skew:                           0.281   Prob(JB):                        0.556\n",
      "Kurtosis:                       2.925   Cond. No.                     4.26e+09\n",
      "==============================================================================\n",
      "\n",
      "Warnings:\n",
      "[1] Standard Errors assume that the covariance matrix of the errors is correctly specified.\n",
      "[2] The condition number is large, 4.26e+09. This might indicate that there are\n",
      "strong multicollinearity or other numerical problems.\n"
     ]
    },
    {
     "data": {
      "image/png": "[encoded data removed]",
      "text/plain": [
       "<Figure size 432x288 with 1 Axes>"
      ]
     },
     "metadata": {},
     "output_type": "display_data"
    }
   ],
   "source": [
    "regression_discontinuity(x = 'Ordinal_Timestamps', y = 'sent_scores', dummy = 'random_point_1', df = df, \n",
    "                         discontinuity_point=datetime.toordinal(datetime(2016, 5, 5)))"
   ]
  },
  {
   "cell_type": "markdown",
   "metadata": {},
   "source": [
    "We see that this point is not significant, and that we do not get a discontinuous regression line, next random point will be March 23, 2017"
   ]
  },
  {
   "cell_type": "code",
   "execution_count": 24,
   "metadata": {},
   "outputs": [],
   "source": [
    "df['random_point_2'] = df.timestamps.apply(create_dummy)"
   ]
  },
  {
   "cell_type": "code",
   "execution_count": 25,
   "metadata": {},
   "outputs": [
    {
     "name": "stdout",
     "output_type": "stream",
     "text": [
      "                            OLS Regression Results                            \n",
      "==============================================================================\n",
      "Dep. Variable:            sent_scores   R-squared:                       0.114\n",
      "Model:                            OLS   Adj. R-squared:                  0.093\n",
      "Method:                 Least Squares   F-statistic:                     5.463\n",
      "Date:                Wed, 20 Mar 2019   Prob (F-statistic):            0.00586\n",
      "Time:                        12:46:21   Log-Likelihood:                 296.77\n",
      "No. Observations:                  88   AIC:                            -587.5\n",
      "Df Residuals:                      85   BIC:                            -580.1\n",
      "Df Model:                           2                                         \n",
      "Covariance Type:            nonrobust                                         \n",
      "======================================================================================\n",
      "                         coef    std err          t      P>|t|      [0.025      0.975]\n",
      "--------------------------------------------------------------------------------------\n",
      "Intercept            -14.4689      5.859     -2.470      0.016     -26.118      -2.820\n",
      "Ordinal_Timestamps  1.984e-05   7.96e-06      2.493      0.015    4.01e-06    3.57e-05\n",
      "random_point_2        -0.0017      0.003     -0.542      0.590      -0.008       0.005\n",
      "==============================================================================\n",
      "Omnibus:                        1.744   Durbin-Watson:                   1.537\n",
      "Prob(Omnibus):                  0.418   Jarque-Bera (JB):                1.476\n",
      "Skew:                           0.317   Prob(JB):                        0.478\n",
      "Kurtosis:                       2.998   Cond. No.                     4.79e+09\n",
      "==============================================================================\n",
      "\n",
      "Warnings:\n",
      "[1] Standard Errors assume that the covariance matrix of the errors is correctly specified.\n",
      "[2] The condition number is large, 4.79e+09. This might indicate that there are\n",
      "strong multicollinearity or other numerical problems.\n"
     ]
    },
    {
     "data": {
      "image/png": "[encoded data removed]",
      "text/plain": [
       "<Figure size 432x288 with 1 Axes>"
      ]
     },
     "metadata": {},
     "output_type": "display_data"
    }
   ],
   "source": [
    "regression_discontinuity(x = 'Ordinal_Timestamps', y = 'sent_scores', dummy = 'random_point_2', df = df, \n",
    "                         discontinuity_point=datetime.toordinal(datetime(2017, 3, 23)))"
   ]
  },
  {
   "cell_type": "markdown",
   "metadata": {},
   "source": [
    "Again we see that we do not get a significant p-value and that this random point does not signify any discontinuity"
   ]
  },
  {
   "cell_type": "code",
   "execution_count": null,
   "metadata": {},
   "outputs": [],
   "source": []
  }
 ],
 "metadata": {
  "kernelspec": {
   "display_name": "Python 3",
   "language": "python",
   "name": "python3"
  },
  "language_info": {
   "codemirror_mode": {
    "name": "ipython",
    "version": 3
   },
   "file_extension": ".py",
   "mimetype": "text/x-python",
   "name": "python",
   "nbconvert_exporter": "python",
   "pygments_lexer": "ipython3",
   "version": "3.6.7"
  }
 },
 "nbformat": 4,
 "nbformat_minor": 2
}
